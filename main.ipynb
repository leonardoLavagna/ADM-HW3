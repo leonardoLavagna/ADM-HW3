{
 "cells": [
  {
   "cell_type": "markdown",
   "id": "cce21419-204f-4f21-8495-f3ba55fd460d",
   "metadata": {},
   "source": [
    "# 1. Data Collection"
   ]
  },
  {
   "cell_type": "markdown",
   "id": "9e24cc26-0ed6-470e-8f0f-84d5d8b85f06",
   "metadata": {},
   "source": [
    "### 1.1 Get the List of Animes"
   ]
  },
  {
   "cell_type": "code",
   "execution_count": 2,
   "id": "0c8e1db3-5871-44b4-b156-5402a9c12434",
   "metadata": {},
   "outputs": [],
   "source": [
    "import requests\n",
    "from bs4 import BeautifulSoup\n",
    "from tqdm import tqdm\n",
    "import urllib.request \n",
    "import os"
   ]
  },
  {
   "cell_type": "markdown",
   "id": "e4be5120-a410-4177-b788-3b8eafc60af7",
   "metadata": {},
   "source": [
    "Downloading each anime's url to a single text file"
   ]
  },
  {
   "cell_type": "code",
   "execution_count": 24,
   "id": "07efba06-f07b-4e2c-ae55-8d7cbb44d85b",
   "metadata": {},
   "outputs": [
    {
     "name": "stderr",
     "output_type": "stream",
     "text": [
      "100%|██████████| 400/400 [05:44<00:00,  1.16it/s]\n"
     ]
    }
   ],
   "source": [
    "links_text = open(\"links.txt\", \"w\")\n",
    "for page in tqdm(range(0, 400)):\n",
    "    url = 'https://myanimelist.net/topanime.php?limit=' + str(page * 50)\n",
    "    response = requests.get(url)\n",
    "    soup = BeautifulSoup(response.text, 'html.parser')\n",
    "    for tag in soup.find_all('tr'):\n",
    "        links = tag.find_all('a')\n",
    "        for link in links:        \n",
    "            if type(link.get('id')) == str and len(link.contents[0]) > 1:\n",
    "                data = link.get('href')\n",
    "                links_text.write(data)\n",
    "                links_text.write(\"\\n\")\n",
    "links_text.close()"
   ]
  },
  {
   "cell_type": "markdown",
   "id": "aaaac8c0-38db-4a7d-b552-52c0025c78d9",
   "metadata": {},
   "source": [
    "Reading how many lines in the text file"
   ]
  },
  {
   "cell_type": "code",
   "execution_count": 25,
   "id": "994484d5-158e-4049-8701-45936a73b4df",
   "metadata": {},
   "outputs": [
    {
     "name": "stdout",
     "output_type": "stream",
     "text": [
      "There are total 19124 lines in this file.\n"
     ]
    }
   ],
   "source": [
    "file = open(\"links.txt\", \"r\")\n",
    "line_count = 0\n",
    "for line in file:\n",
    "    if line != \"\\n\":\n",
    "        line_count += 1\n",
    "file.close()\n",
    "\n",
    "print('There are total {} lines in this file.'.format(line_count))\n"
   ]
  },
  {
   "cell_type": "markdown",
   "id": "20a524d2-565f-4e71-b3f4-a54f6762c173",
   "metadata": {},
   "source": [
    "### 1.2 Crawl the Animes"
   ]
  },
  {
   "cell_type": "code",
   "execution_count": 161,
   "id": "fda82ae7-a073-42a6-a25f-e3a7266a5540",
   "metadata": {},
   "outputs": [],
   "source": [
    "directory = 'html_pages'\n",
    "parent_dir = \"/Users/onurergun/Desktop/ADM-HW3\"\n",
    "path = os.path.join(parent_dir, directory)\n",
    "os.mkdir(path)"
   ]
  },
  {
   "cell_type": "markdown",
   "id": "5d8dfd87-ca7f-4d30-9d3d-c62d75af510c",
   "metadata": {},
   "source": [
    "Creating subfolders for each page of the list </br>\n",
    "After creating the subfolders, we add each html file to corresponding page number folder."
   ]
  },
  {
   "cell_type": "code",
   "execution_count": 10,
   "id": "212ee972-7b5b-44cd-93b1-d5e95b2057a4",
   "metadata": {},
   "outputs": [
    {
     "ename": "IndexError",
     "evalue": "list index out of range",
     "output_type": "error",
     "traceback": [
      "\u001b[0;31m---------------------------------------------------------------------------\u001b[0m",
      "\u001b[0;31mIndexError\u001b[0m                                Traceback (most recent call last)",
      "\u001b[0;32m<ipython-input-10-21c85e097e76>\u001b[0m in \u001b[0;36m<module>\u001b[0;34m\u001b[0m\n\u001b[1;32m     13\u001b[0m         \u001b[0mhtml_file_name\u001b[0m \u001b[0;34m=\u001b[0m \u001b[0mdirectory_subfolder\u001b[0m\u001b[0;34m+\u001b[0m\u001b[0;34m'article_'\u001b[0m\u001b[0;34m+\u001b[0m\u001b[0mstr\u001b[0m\u001b[0;34m(\u001b[0m\u001b[0manime_num\u001b[0m\u001b[0;34m)\u001b[0m\u001b[0;34m+\u001b[0m\u001b[0;34m'.html'\u001b[0m\u001b[0;34m\u001b[0m\u001b[0;34m\u001b[0m\u001b[0m\n\u001b[1;32m     14\u001b[0m         \u001b[0mtemp_text\u001b[0m \u001b[0;34m=\u001b[0m \u001b[0mopen\u001b[0m\u001b[0;34m(\u001b[0m\u001b[0mhtml_file_name\u001b[0m\u001b[0;34m,\u001b[0m \u001b[0;34m\"w\"\u001b[0m\u001b[0;34m)\u001b[0m\u001b[0;34m\u001b[0m\u001b[0;34m\u001b[0m\u001b[0m\n\u001b[0;32m---> 15\u001b[0;31m         \u001b[0murl\u001b[0m \u001b[0;34m=\u001b[0m \u001b[0manime_urls_list\u001b[0m\u001b[0;34m[\u001b[0m\u001b[0;34m(\u001b[0m\u001b[0manime_num\u001b[0m\u001b[0;34m-\u001b[0m\u001b[0;36m1\u001b[0m\u001b[0;34m)\u001b[0m\u001b[0;34m]\u001b[0m\u001b[0;34m.\u001b[0m\u001b[0mencode\u001b[0m\u001b[0;34m(\u001b[0m\u001b[0;34m'ascii'\u001b[0m\u001b[0;34m,\u001b[0m\u001b[0;34m'backslashreplace'\u001b[0m\u001b[0;34m)\u001b[0m\u001b[0;34m.\u001b[0m\u001b[0mdecode\u001b[0m\u001b[0;34m(\u001b[0m\u001b[0;34m'utf-8'\u001b[0m\u001b[0;34m)\u001b[0m\u001b[0;34m\u001b[0m\u001b[0;34m\u001b[0m\u001b[0m\n\u001b[0m\u001b[1;32m     16\u001b[0m         \u001b[0murllib\u001b[0m\u001b[0;34m.\u001b[0m\u001b[0mrequest\u001b[0m\u001b[0;34m.\u001b[0m\u001b[0murlretrieve\u001b[0m\u001b[0;34m(\u001b[0m\u001b[0murl\u001b[0m\u001b[0;34m,\u001b[0m\u001b[0mhtml_file_name\u001b[0m\u001b[0;34m)\u001b[0m\u001b[0;34m\u001b[0m\u001b[0;34m\u001b[0m\u001b[0m\n\u001b[1;32m     17\u001b[0m         \u001b[0mtemp_text\u001b[0m\u001b[0;34m.\u001b[0m\u001b[0mclose\u001b[0m\u001b[0;34m(\u001b[0m\u001b[0;34m)\u001b[0m\u001b[0;34m\u001b[0m\u001b[0;34m\u001b[0m\u001b[0m\n",
      "\u001b[0;31mIndexError\u001b[0m: list index out of range"
     ]
    }
   ],
   "source": [
    "directory = 'html_pages'\n",
    "file_read = open('links.txt', 'r')\n",
    "anime_urls_list = file_read.readlines()\n",
    "file_read.close()\n",
    "\n",
    "for i in range(1,401):\n",
    "    html_page_name = 'page'+str(i)\n",
    "    os.makedirs(os.path.join(directory, html_page_name ))\n",
    "    directory_subfolder = directory+'/'+html_page_name+'/'\n",
    "    \n",
    "    for j in range(1,51):\n",
    "        anime_num = 50*(i-1)+j\n",
    "        html_file_name = directory_subfolder+'article_'+str(anime_num)+'.html'\n",
    "        temp_text = open(html_file_name, \"w\")\n",
    "        url = anime_urls_list[(anime_num-1)].encode('ascii','backslashreplace').decode('utf-8')\n",
    "        urllib.request.urlretrieve(url,html_file_name)\n",
    "        temp_text.close()"
   ]
  },
  {
   "cell_type": "code",
   "execution_count": null,
   "id": "aa5de04f-62bf-4504-adb8-011e9056f1b9",
   "metadata": {},
   "outputs": [],
   "source": []
  }
 ],
 "metadata": {
  "kernelspec": {
   "display_name": "Python 3",
   "language": "python",
   "name": "python3"
  },
  "language_info": {
   "codemirror_mode": {
    "name": "ipython",
    "version": 3
   },
   "file_extension": ".py",
   "mimetype": "text/x-python",
   "name": "python",
   "nbconvert_exporter": "python",
   "pygments_lexer": "ipython3",
   "version": "3.8.8"
  }
 },
 "nbformat": 4,
 "nbformat_minor": 5
}
