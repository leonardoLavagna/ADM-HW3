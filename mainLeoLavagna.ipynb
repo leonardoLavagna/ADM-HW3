{
 "cells": [
  {
   "cell_type": "code",
   "execution_count": 8,
   "id": "8756d913",
   "metadata": {},
   "outputs": [],
   "source": [
    "# libraries to install\n",
    "# !pip install langdetect\n",
    "# !pip install selenium"
   ]
  },
  {
   "cell_type": "code",
   "execution_count": 9,
   "id": "c8a0881c",
   "metadata": {},
   "outputs": [],
   "source": [
    "import requests\n",
    "from bs4 import BeautifulSoup\n",
    "from tqdm import tqdm\n",
    "from selenium import webdriver\n",
    "import pandas as pd"
   ]
  },
  {
   "cell_type": "code",
   "execution_count": 10,
   "id": "8b8046c0",
   "metadata": {},
   "outputs": [
    {
     "name": "stderr",
     "output_type": "stream",
     "text": [
      "<ipython-input-10-caa2157e66d9>:2: DeprecationWarning: executable_path has been deprecated, please pass in a Service object\n",
      "  driver = webdriver.Chrome('/Users/dany/Desktop/adm-hw3/chromedriver')\n"
     ]
    }
   ],
   "source": [
    "# selenium with Chrome\n",
    "driver = webdriver.Chrome('/Users/dany/Desktop/adm-hw3/chromedriver')"
   ]
  },
  {
   "cell_type": "code",
   "execution_count": 11,
   "id": "12aa4a3c",
   "metadata": {},
   "outputs": [],
   "source": [
    "# create a dataframe with links of each anime\n",
    "df = pd.DataFrame(columns = ['Href'])"
   ]
  },
  {
   "cell_type": "markdown",
   "id": "9d6192e2",
   "metadata": {},
   "source": [
    "I've gotten the idea from https://github.com/GiorgiaSalvatori/ADM-HW3/blob/main/main.ipynb. Also the following link was useful https://towardsdatascience.com/how-to-use-selenium-to-web-scrape-with-example-80f9b23a843a."
   ]
  },
  {
   "cell_type": "code",
   "execution_count": 12,
   "id": "f107bbab",
   "metadata": {},
   "outputs": [
    {
     "name": "stderr",
     "output_type": "stream",
     "text": [
      "100%|██████████| 400/400 [06:05<00:00,  1.09it/s]\n"
     ]
    }
   ],
   "source": [
    "# go page by page and and store links in a list\n",
    "anime_list = []\n",
    "\n",
    "for page in tqdm(range(0, 400)):\n",
    "    url = 'https://myanimelist.net/topanime.php?limit=' + str(page * 50)\n",
    "    response = requests.get(url)\n",
    "    soup = BeautifulSoup(response.text, 'html.parser')\n",
    "    for tag in soup.find_all('tr'):\n",
    "        links = tag.find_all('a')\n",
    "        for link in links:        \n",
    "            if type(link.get('id')) == str and len(link.contents[0]) > 1:\n",
    "                anime_list.append((link.contents[0], link.get('href')) )"
   ]
  },
  {
   "cell_type": "code",
   "execution_count": 13,
   "id": "3d7dbe44",
   "metadata": {},
   "outputs": [
    {
     "name": "stdout",
     "output_type": "stream",
     "text": [
      "19122\n"
     ]
    }
   ],
   "source": [
    "print(len(anime_list))"
   ]
  },
  {
   "cell_type": "code",
   "execution_count": 14,
   "id": "38884487",
   "metadata": {},
   "outputs": [],
   "source": [
    "# assign list to dataframe\n",
    "df['Href'] = anime_list"
   ]
  },
  {
   "cell_type": "code",
   "execution_count": 15,
   "id": "442da9a3",
   "metadata": {},
   "outputs": [
    {
     "data": {
      "text/plain": [
       "19122"
      ]
     },
     "execution_count": 15,
     "metadata": {},
     "output_type": "execute_result"
    }
   ],
   "source": [
    "# Ok no duplicates\n",
    "df['Href'].nunique()"
   ]
  },
  {
   "cell_type": "code",
   "execution_count": 16,
   "id": "09ed84a9",
   "metadata": {},
   "outputs": [],
   "source": [
    "#save dataframe\n",
    "df.to_csv('urls.csv')"
   ]
  },
  {
   "cell_type": "markdown",
   "id": "cadc99b2",
   "metadata": {},
   "source": [
    "We could also create a dictionary"
   ]
  },
  {
   "cell_type": "code",
   "execution_count": 20,
   "id": "f3939d44",
   "metadata": {},
   "outputs": [
    {
     "name": "stdout",
     "output_type": "stream",
     "text": [
      "https://myanimelist.net/anime/5114/Fullmetal_Alchemist__Brotherhood\n"
     ]
    }
   ],
   "source": [
    "#keys\n",
    "name = []   \n",
    "#values\n",
    "url = []    \n",
    "\n",
    "for item in anime_list:\n",
    "    name.append(item[0])\n",
    "    url.append(item[1])\n",
    "    \n",
    "D = dict(zip(name, url))\n",
    "print(list(D.values())[0])"
   ]
  },
  {
   "cell_type": "code",
   "execution_count": null,
   "id": "cf2ade81",
   "metadata": {},
   "outputs": [],
   "source": []
  }
 ],
 "metadata": {
  "kernelspec": {
   "display_name": "Python 3",
   "language": "python",
   "name": "python3"
  },
  "language_info": {
   "codemirror_mode": {
    "name": "ipython",
    "version": 3
   },
   "file_extension": ".py",
   "mimetype": "text/x-python",
   "name": "python",
   "nbconvert_exporter": "python",
   "pygments_lexer": "ipython3",
   "version": "3.8.8"
  }
 },
 "nbformat": 4,
 "nbformat_minor": 5
}
